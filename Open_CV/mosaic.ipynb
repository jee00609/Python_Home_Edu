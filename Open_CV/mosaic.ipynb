{
 "cells": [
  {
   "cell_type": "code",
   "execution_count": null,
   "metadata": {},
   "outputs": [],
   "source": [
    "import cv2\n",
    "import keyboard\n",
    "\n",
    "ksize = 30\n",
    "win_title = 'mosaic'\n",
    "img = cv2.imread('img/taekwonv1.jpg')\n",
    "roi_img = img.copy()\n",
    "\n",
    "#if ord(key.char) == 13:\n",
    "\n",
    "while True:\n",
    "    x,y,w,h = cv2.selectROI(win_title,img,False)\n",
    "    if x>0 and h>0:\n",
    "        img = cv2.imread('img/taekwonv1.jpg')\n",
    "        cv2.imshow(win_title,img)\n",
    "        roi = roi_img[y:y+h,x:x+w]\n",
    "        roi = cv2.blur(roi,(ksize,ksize))\n",
    "        img[y:y+h,x:x+w] = roi\n",
    "        cv2.imshow(win_title,img)\n",
    "    else:\n",
    "        break\n",
    "\n",
    "cv2.destroyAllWindows()"
   ]
  }
 ],
 "metadata": {
  "kernelspec": {
   "display_name": "Python 3",
   "language": "python",
   "name": "python3"
  },
  "language_info": {
   "codemirror_mode": {
    "name": "ipython",
    "version": 3
   },
   "file_extension": ".py",
   "mimetype": "text/x-python",
   "name": "python",
   "nbconvert_exporter": "python",
   "pygments_lexer": "ipython3",
   "version": "3.7.3"
  }
 },
 "nbformat": 4,
 "nbformat_minor": 2
}
